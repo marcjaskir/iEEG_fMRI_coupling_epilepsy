{
 "cells": [
  {
   "cell_type": "code",
   "execution_count": 404,
   "metadata": {},
   "outputs": [
    {
     "name": "stdout",
     "output_type": "stream",
     "text": [
      "         Patient  IEEGID        IEEGname  sz      start        end  duration\n",
      "139  sub-RID0508     1.0  HUP184_phaseII   4  266035.13  267030.68   16.5925\n",
      "==================================================\n",
      "Seizure duration in seconds:\n",
      "count    238.000000\n",
      "mean       1.823422\n",
      "std        2.132827\n",
      "min        0.187100\n",
      "25%        0.812913\n",
      "50%        1.280833\n",
      "75%        1.827602\n",
      "max       16.592500\n",
      "Name: duration, dtype: float64\n",
      "Mean seizure duration: 109.40531260504274\n"
     ]
    },
    {
     "data": {
      "image/png": "[encoded data removed]",
      "text/plain": [
       "<Figure size 432x288 with 1 Axes>"
      ]
     },
     "metadata": {},
     "output_type": "display_data"
    },
    {
     "name": "stdout",
     "output_type": "stream",
     "text": [
      "==================================================\n",
      "Seizures per subject:\n",
      "count    32.000000\n",
      "mean      7.437500\n",
      "std       6.174545\n",
      "min       1.000000\n",
      "25%       3.000000\n",
      "50%       5.000000\n",
      "75%       8.500000\n",
      "max      26.000000\n",
      "dtype: float64\n"
     ]
    },
    {
     "data": {
      "text/plain": [
       "<AxesSubplot:ylabel='Frequency'>"
      ]
     },
     "execution_count": 404,
     "metadata": {},
     "output_type": "execute_result"
    },
    {
     "data": {
      "image/png": "[encoded data removed]",
      "text/plain": [
       "<Figure size 432x288 with 1 Axes>"
      ]
     },
     "metadata": {},
     "output_type": "display_data"
    }
   ],
   "source": [
    "# Read in seizure metadata\n",
    "import pandas as pd\n",
    "import matplotlib.pyplot as plt\n",
    "\n",
    "ictal_metadata = pd.read_csv('/Users/mjaskir/ngg/rotations/davis/iEEG_fMRI_WM/outputs/ieeg_car/time_windows/ictal_time_windows.csv')\n",
    "\n",
    "# Add a new variable called 'duration' that is the difference between the start and end times\n",
    "ictal_metadata['duration'] = (ictal_metadata['end'] - ictal_metadata['start'])/60\n",
    "\n",
    "# Print row of dataframe with max duration\n",
    "print(ictal_metadata[ictal_metadata['duration'] == ictal_metadata['duration'].max()])\n",
    "print('==================================================')\n",
    "\n",
    "included_subjects = [\n",
    "'sub-RID0037', 'sub-RID0490', 'sub-RID0031', 'sub-RID0658', 'sub-RID0143',\n",
    "'sub-RID0520', 'sub-RID0529', 'sub-RID0117', 'sub-RID0572', 'sub-RID0566',\n",
    "'sub-RID0194', 'sub-RID0309', 'sub-RID0365', 'sub-RID0502', 'sub-RID0440',\n",
    "'sub-RID0459', 'sub-RID0051', 'sub-RID0652', 'sub-RID0032', 'sub-RID0583',\n",
    "'sub-RID0320', 'sub-RID0522', 'sub-RID0536', 'sub-RID0139', 'sub-RID0596',\n",
    "'sub-RID0508', 'sub-RID0278', 'sub-RID0420', 'sub-RID0679', 'sub-RID0646',\n",
    "'sub-RID0648', 'sub-RID0089'\n",
    "]\n",
    "\n",
    "# Filter the metadata to only include the included subjects\n",
    "ictal_metadata = ictal_metadata[ictal_metadata['Patient'].isin(included_subjects)]\n",
    "\n",
    "# Print the distribution of durations\n",
    "print('Seizure duration in seconds:')\n",
    "print(ictal_metadata['duration'].describe())\n",
    "\n",
    "# Plot a density plot of duration, removing grid lines\n",
    "ictal_metadata['duration'].plot(kind='hist', bins=range(0, 18, 1), xticks=range(0, 18, 2), grid=False)\n",
    "plt.xlabel('Seizure Duration (minutes)')\n",
    "plt.ylabel('Number of Seizures')\n",
    "\n",
    "# Add vertical line at mean\n",
    "plt.axvline(ictal_metadata['duration'].mean(), color='red', linewidth=2)\n",
    "print('Mean seizure duration: ' + str(ictal_metadata['duration'].mean()*60))\n",
    "\n",
    "plt.show()\n",
    "\n",
    "print('==================================================')\n",
    "\n",
    "# Determine the number of seizures per patient\n",
    "print('Seizures per subject:')\n",
    "print(ictal_metadata.groupby('Patient').size().describe())\n",
    "\n",
    "# Plot a histogram of the number of seizures per patient with a bin width of 2 and xtick step of 2\n",
    "ictal_metadata.groupby('Patient').size().plot(kind='hist', bins=range(0, 28, 2), xticks=range(0, 28, 2))"
   ]
  }
 ],
 "metadata": {
  "kernelspec": {
   "display_name": "Python 3 (ipykernel)",
   "language": "python",
   "name": "python3"
  },
  "language_info": {
   "codemirror_mode": {
    "name": "ipython",
    "version": 3
   },
   "file_extension": ".py",
   "mimetype": "text/x-python",
   "name": "python",
   "nbconvert_exporter": "python",
   "pygments_lexer": "ipython3",
   "version": "3.9.12"
  },
  "orig_nbformat": 4
 },
 "nbformat": 4,
 "nbformat_minor": 2
}
